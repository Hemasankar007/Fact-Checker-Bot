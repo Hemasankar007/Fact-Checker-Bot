{
 "cells": [
  {
   "cell_type": "code",
   "execution_count": null,
   "metadata": {},
   "outputs": [],
   "source": [
    "from src.ui.cli import main as cli_main\n",
    "from src.ui.streamlit_app import main as st_main\n",
    "import argparse\n",
    "\n",
    "def main():\n",
    "    parser = argparse.ArgumentParser(description=\"AI Fact-Checker Bot\")\n",
    "    parser.add_argument('--ui', choices=['cli', 'streamlit', 'gradio'], \n",
    "                       default='cli', help=\"Interface to use\")\n",
    "    \n",
    "    args = parser.parse_args()\n",
    "    \n",
    "    if args.ui == 'cli':\n",
    "        cli_main()\n",
    "    elif args.ui == 'streamlit':\n",
    "        import streamlit\n",
    "        streamlit.run(\"src/ui/streamlit_app.py\")\n",
    "    elif args.ui == 'gradio':\n",
    "        from src.ui.gradio_app import iface\n",
    "        iface.launch()\n",
    "\n",
    "if __name__ == \"__main__\":\n",
    "    main()"
   ]
  }
 ],
 "metadata": {
  "kernelspec": {
   "display_name": "llms",
   "language": "python",
   "name": "python3"
  },
  "language_info": {
   "name": "python",
   "version": "3.11.13"
  }
 },
 "nbformat": 4,
 "nbformat_minor": 2
}
