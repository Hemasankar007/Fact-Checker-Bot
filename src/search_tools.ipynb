{
 "cells": [
  {
   "cell_type": "code",
   "execution_count": null,
   "metadata": {},
   "outputs": [],
   "source": [
    "from duckduckgo_search import ddg\n",
    "import requests\n",
    "from bs4 import BeautifulSoup\n",
    "from typing import List, Dict\n",
    "import logging\n",
    "\n",
    "class WebSearchTool:\n",
    "    def __init__(self):\n",
    "        self.max_results = Settings.SEARCH_MAX_RESULTS\n",
    "    \n",
    "    def search(self, query: str) -> List[Dict]:\n",
    "        try:\n",
    "            results = ddg(query, max_results=self.max_results)\n",
    "            processed_results = []\n",
    "            \n",
    "            for result in results:\n",
    "                processed_results.append({\n",
    "                    \"title\": result.get(\"title\", \"\"),\n",
    "                    \"url\": result.get(\"href\", \"\"),\n",
    "                    \"snippet\": result.get(\"body\", \"\")\n",
    "                })\n",
    "            \n",
    "            return processed_results\n",
    "            \n",
    "        except Exception as e:\n",
    "            logging.error(f\"Search error: {str(e)}\")\n",
    "            return []\n",
    "    \n",
    "    def get_page_content(self, url: str) -> str:\n",
    "        try:\n",
    "            headers = {\n",
    "                \"User-Agent\": \"Mozilla/5.0 (Windows NT 10.0; Win64; x64) AppleWebKit/537.36\"\n",
    "            }\n",
    "            response = requests.get(url, headers=headers, timeout=10)\n",
    "            soup = BeautifulSoup(response.text, 'html.parser')\n",
    "            \n",
    "            # Remove script and style elements\n",
    "            for script in soup([\"script\", \"style\"]):\n",
    "                script.decompose()\n",
    "            \n",
    "            text = soup.get_text()\n",
    "            lines = (line.strip() for line in text.splitlines())\n",
    "            chunks = (phrase.strip() for line in lines for phrase in line.split(\"  \"))\n",
    "            text = '\\n'.join(chunk for chunk in chunks if chunk)\n",
    "            \n",
    "            return text[:5000]  # Limit to first 5000 chars\n",
    "            \n",
    "        except Exception as e:\n",
    "            logging.error(f\"Error fetching page content: {str(e)}\")\n",
    "            return \"\""
   ]
  }
 ],
 "metadata": {
  "kernelspec": {
   "display_name": "llms",
   "language": "python",
   "name": "python3"
  },
  "language_info": {
   "name": "python",
   "version": "3.11.13"
  }
 },
 "nbformat": 4,
 "nbformat_minor": 2
}
