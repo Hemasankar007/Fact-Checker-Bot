{
 "cells": [
  {
   "cell_type": "code",
   "execution_count": null,
   "metadata": {},
   "outputs": [],
   "source": [
    "from typing import List, Dict\n",
    "import re\n",
    "\n",
    "def extract_assumptions(response: str) -> List[str]:\n",
    "    \"\"\"Extract assumptions from the initial response\"\"\"\n",
    "    prompt = f\"\"\"Extract all factual assumptions made in the following text. \n",
    "    List each assumption on a separate line.\n",
    "    \n",
    "    Text:\n",
    "    {response}\n",
    "    \n",
    "    Assumptions:\"\"\"\n",
    "    \n",
    "    # In a real implementation, this would use an LLM chain\n",
    "    # For demo purposes, we'll use a simple regex\n",
    "    assumptions = re.findall(r'(?i)(?:assume|assuming|presume|presuming|probably|likely|perhaps)\\s+(.*?)[.,;]', response)\n",
    "    return [a.strip() for a in assumptions if a.strip()]\n",
    "\n",
    "def validate_assumptions(assumption: str) -> Dict[str, Any]:\n",
    "    \"\"\"Check if an assumption is a known fact\"\"\"\n",
    "    known_facts = {\n",
    "        \"the capital of France is Paris\": True,\n",
    "        \"the Earth orbits the Sun\": True,\n",
    "        \"water boils at 100 degrees Celsius at sea level\": True\n",
    "    }\n",
    "    \n",
    "    lower_assumption = assumption.lower()\n",
    "    for fact, verdict in known_facts.items():\n",
    "        if fact in lower_assumption:\n",
    "            return {\n",
    "                \"is_verified\": True,\n",
    "                \"verdict\": \"TRUE\" if verdict else \"FALSE\"\n",
    "            }\n",
    "    \n",
    "    return {\"is_verified\": False, \"verdict\": \"UNCERTAIN\"}"
   ]
  }
 ],
 "metadata": {
  "kernelspec": {
   "display_name": "llms",
   "language": "python",
   "name": "python3"
  },
  "language_info": {
   "name": "python",
   "version": "3.11.13"
  }
 },
 "nbformat": 4,
 "nbformat_minor": 2
}
