{
 "cells": [
  {
   "cell_type": "code",
   "execution_count": null,
   "metadata": {},
   "outputs": [],
   "source": [
    "import streamlit as st\n",
    "from src.fact_checker import FactCheckerBot\n",
    "import time\n",
    "\n",
    "st.title(\"AI Fact-Checker Bot\")\n",
    "st.write(\"Enter a claim or question to verify its accuracy\")\n",
    "\n",
    "if \"bot\" not in st.session_state:\n",
    "    st.session_state.bot = FactCheckerBot()\n",
    "if \"history\" not in st.session_state:\n",
    "    st.session_state.history = []\n",
    "\n",
    "claim = st.text_input(\"Enter your claim or question:\")\n",
    "if st.button(\"Check Fact\") and claim:\n",
    "    with st.spinner(\"Fact-checking in progress...\"):\n",
    "        start_time = time.time()\n",
    "        result = st.session_state.bot.check_fact(claim)\n",
    "        elapsed_time = time.time() - start_time\n",
    "        \n",
    "        st.session_state.history.append(result)\n",
    "        \n",
    "        st.subheader(\"Final Verified Response\")\n",
    "        st.write(result[\"final_response\"])\n",
    "        \n",
    "        st.subheader(\"Details\")\n",
    "        with st.expander(\"Initial Response\"):\n",
    "            st.write(result[\"initial_response\"])\n",
    "        \n",
    "        with st.expander(\"Assumptions Verified\"):\n",
    "            for assumption in result[\"assumptions\"]:\n",
    "                st.markdown(f\"**Assumption:** {assumption['assumption']}\")\n",
    "                st.markdown(f\"**Verdict:** {assumption['verification']}\")\n",
    "                st.markdown(f\"**Confidence:** {assumption['confidence']}\")\n",
    "                st.write(\"---\")\n",
    "        \n",
    "        st.caption(f\"Fact-check completed in {elapsed_time:.2f} seconds\")\n",
    "\n",
    "if st.session_state.history:\n",
    "    st.sidebar.title(\"History\")\n",
    "    for i, item in enumerate(reversed(st.session_state.history)):\n",
    "        if st.sidebar.button(f\"{item['claim'][:50]}...\", key=f\"hist_{i}\"):\n",
    "            st.experimental_rerun()"
   ]
  }
 ],
 "metadata": {
  "kernelspec": {
   "display_name": "llms",
   "language": "python",
   "name": "python3"
  },
  "language_info": {
   "name": "python",
   "version": "3.11.13"
  }
 },
 "nbformat": 4,
 "nbformat_minor": 2
}
