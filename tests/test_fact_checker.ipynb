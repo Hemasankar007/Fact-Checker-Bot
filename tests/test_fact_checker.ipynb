{
 "cells": [
  {
   "cell_type": "code",
   "execution_count": null,
   "metadata": {},
   "outputs": [],
   "source": [
    "import pytest\n",
    "from src.fact_checker import FactCheckerBot\n",
    "from unittest.mock import patch\n",
    "\n",
    "class TestFactChecker:\n",
    "    @pytest.fixture\n",
    "    def bot(self):\n",
    "        return FactCheckerBot()\n",
    "    \n",
    "    def test_initial_response(self, bot):\n",
    "        with patch('langchain.chains.LLMChain.run') as mock_run:\n",
    "            mock_run.return_value = \"Paris is the capital of France.\"\n",
    "            response = bot._get_initial_response(\"What is the capital of France?\")\n",
    "            assert \"Paris\" in response\n",
    "    \n",
    "    def test_assumption_extraction(self):\n",
    "        from src.utils import extract_assumptions\n",
    "        text = \"Assuming that Paris is in Europe, and probably the most visited city.\"\n",
    "        assumptions = extract_assumptions(text)\n",
    "        assert len(assumptions) >= 1\n",
    "        assert \"Paris is in Europe\" in assumptions[0]\n",
    "    \n",
    "    def test_known_fact_validation(self):\n",
    "        from src.utils import validate_assumptions\n",
    "        result = validate_assumptions(\"the capital of France is Paris\")\n",
    "        assert result[\"is_verified\"] == True\n",
    "        assert result[\"verdict\"] == \"TRUE\""
   ]
  }
 ],
 "metadata": {
  "kernelspec": {
   "display_name": "llms",
   "language": "python",
   "name": "python3"
  },
  "language_info": {
   "name": "python",
   "version": "3.11.13"
  }
 },
 "nbformat": 4,
 "nbformat_minor": 2
}
